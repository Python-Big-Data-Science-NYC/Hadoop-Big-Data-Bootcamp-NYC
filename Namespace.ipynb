{
 "cells": [
  {
   "cell_type": "code",
   "execution_count": 25,
   "metadata": {},
   "outputs": [
    {
     "name": "stdout",
     "output_type": "stream",
     "text": [
      "before inner func\n",
      "inside  ineer func 1\n",
      "after inner func 5\n"
     ]
    }
   ],
   "source": [
    "def outerFun():\n",
    "    print(\"before inner func\")\n",
    "    def innerFun():\n",
    "        var = 1\n",
    "        print(\"inside  ineer func\",var)\n",
    "    innerFun()\n",
    "    print(\"after inner func\",var)\n",
    "\n",
    "outerFun()"
   ]
  },
  {
   "cell_type": "code",
   "execution_count": 30,
   "metadata": {},
   "outputs": [
    {
     "name": "stdout",
     "output_type": "stream",
     "text": [
      "before inner func 3\n",
      "inside  ineer func 2\n",
      "after inner func 3\n",
      "outside of outerFun 5\n"
     ]
    }
   ],
   "source": [
    "#variable with same names but in diff namspace \n",
    "var = 5\n",
    "def outerFun1():\n",
    "    var = 3\n",
    "    print(\"before inner func\",var)\n",
    "    def innerFun():\n",
    "        var = 2\n",
    "        print(\"inside  ineer func\",var)\n",
    "    innerFun()\n",
    "    print(\"after inner func\",var)\n",
    "outerFun1()\n",
    "print(\"outside of outerFun\",var)\n"
   ]
  }
 ],
 "metadata": {
  "kernelspec": {
   "display_name": "Python 3",
   "language": "python",
   "name": "python3"
  },
  "language_info": {
   "codemirror_mode": {
    "name": "ipython",
    "version": 3
   },
   "file_extension": ".py",
   "mimetype": "text/x-python",
   "name": "python",
   "nbconvert_exporter": "python",
   "pygments_lexer": "ipython3",
   "version": "3.7.4"
  }
 },
 "nbformat": 4,
 "nbformat_minor": 2
}
