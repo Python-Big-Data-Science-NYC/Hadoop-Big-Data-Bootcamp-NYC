{
 "cells": [
  {
   "cell_type": "code",
   "execution_count": 5,
   "metadata": {},
   "outputs": [],
   "source": [
    "from pyspark import SparkContext\n",
    "from pyspark.sql import SparkSession\n",
    "sc = SparkContext()\n",
    "spark = SparkSession.builder.master(\"local[1]\") \\\n",
    "                    .appName('Demo01') \\\n",
    "                    .getOrCreate()\n",
    "\n"
   ]
  },
  {
   "cell_type": "code",
   "execution_count": 6,
   "metadata": {},
   "outputs": [],
   "source": [
    "def parseLine(iterator):\n",
    "    for itr in iterator:\n",
    "        x = itr.split(\",\")\n",
    "        yield x[1],x[2]\n"
   ]
  },
  {
   "cell_type": "code",
   "execution_count": 7,
   "metadata": {},
   "outputs": [],
   "source": [
    "def saving(data):\n",
    "        # saving dataframe to csv\n",
    "        data.toPandas().to_csv('mycsv.csv',index=False)\n"
   ]
  },
  {
   "cell_type": "code",
   "execution_count": 8,
   "metadata": {},
   "outputs": [],
   "source": [
    "ratings = \"/home/superadmin/DBDA/DBDA_Notes/Bigdata/big-data/data/movies/ratings.csv\"\n",
    "\n",
    "ratings = sc.textFile(ratings)\n",
    "#passed ratings data to parseLine function in mapPartitions\n",
    "result = ratings.mapPartitions(parseLine).collect()\n",
    "\n",
    "headr = result[0]\n",
    "row = result[1:]\n",
    "#created dataframe\n",
    "result = spark.createDataFrame(data=row,schema=headr)\n",
    "\n",
    "result =result.groupBy(\"movieId\").count()\n",
    "saving(result)\n",
    "sc.stop()"
   ]
  }
 ],
 "metadata": {
  "kernelspec": {
   "display_name": "Python 3",
   "language": "python",
   "name": "python3"
  },
  "language_info": {
   "codemirror_mode": {
    "name": "ipython",
    "version": 3
   },
   "file_extension": ".py",
   "mimetype": "text/x-python",
   "name": "python",
   "nbconvert_exporter": "python",
   "pygments_lexer": "ipython3",
   "version": "3.7.4"
  }
 },
 "nbformat": 4,
 "nbformat_minor": 2
}
